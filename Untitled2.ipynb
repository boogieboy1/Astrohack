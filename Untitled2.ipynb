{
 "cells": [
  {
   "cell_type": "code",
   "execution_count": 2,
   "metadata": {
    "collapsed": false
   },
   "outputs": [],
   "source": [
    "import pandas as pd\n",
    "import numpy as np\n",
    "import os\n",
    "\n",
    "\n",
    "\n",
    "meta = pd.read_csv(\"./sample.csv\", sep=\";\")\n",
    "\n",
    "images_names = os.listdir(\"./SAMPLE/\")\n",
    "g_images_names = [name for name in images_names if name.endswith(\"g.csv\")]\n",
    "ids = [name.split(\"-\")[0] for name in g_images_names]\n",
    "\n",
    "\n",
    "\n",
    "from scipy.ndimage.interpolation import zoom\n",
    "\n",
    "images = []\n",
    "masses = []\n",
    "for i in range(0,len(ids)): \n",
    "    image = pd.read_csv(os.path.abspath(\"./SAMPLE/\" + g_images_names[i]), sep=',', header=None)\n",
    "    image = zoom(image, 200/image.shape[1])\n",
    "    images.append(image)\n",
    "    \n",
    "    \n",
    "    mass = meta.loc[meta['SDSS_ID']== int(ids[i]), 'logMstar']\n",
    "    mass = mass.values\n",
    "    mass = mass.tolist()\n",
    "    masses = masses + mass\n",
    "    \n",
    "\n",
    "masses = np.array(masses)\n",
    "images = np.array(images)\n",
    "\n",
    "split = 0.9\n",
    "i_train_end = int(split * len(masses))\n",
    "i_train = [i for i in range(0, i_train_end, 1)]\n",
    "i_val = [i for i in range(i_train_end, len(masses) + 1, 1)]\n",
    "\n",
    "y_train = masses[i_train[0]:i_train[-1]]\n",
    "y_val = masses[i_val[0]:i_val[-1]]\n",
    "\n",
    "x_train = images[i_train[0]:i_train[-1]]\n",
    "x_val = images[i_val[0]:i_val[-1]]"
   ]
  },
  {
   "cell_type": "code",
   "execution_count": 3,
   "metadata": {
    "collapsed": false
   },
   "outputs": [],
   "source": [
    "x_train = x_train.reshape(x_train.shape[0], 1, 200, 200)\n",
    "x_val = x_val.reshape(x_val.shape[0], 1, 200, 200)"
   ]
  },
  {
   "cell_type": "code",
   "execution_count": 4,
   "metadata": {
    "collapsed": false
   },
   "outputs": [
    {
     "name": "stderr",
     "output_type": "stream",
     "text": [
      "Using TensorFlow backend.\n"
     ]
    }
   ],
   "source": [
    "from keras.models import Sequential\n",
    "from keras.layers import Dense, Activation, Dropout, Flatten\n",
    "from keras.utils import np_utils\n",
    "from keras.layers import Conv2D, MaxPooling2D\n",
    "from ipykernel import kernelapp as app\n",
    "from keras import optimizers\n",
    "\n",
    "import pandas as pd\n",
    "import os\n",
    "import matplotlib.pyplot as plt\n",
    "import numpy as np"
   ]
  },
  {
   "cell_type": "code",
   "execution_count": 13,
   "metadata": {
    "collapsed": false
   },
   "outputs": [
    {
     "name": "stdout",
     "output_type": "stream",
     "text": [
      "Train on 46 samples, validate on 6 samples\n",
      "Epoch 1/20\n",
      "46/46 [==============================] - 0s - loss: 110.2621 - val_loss: 102.6957\n",
      "Epoch 2/20\n",
      "46/46 [==============================] - 0s - loss: 90.2920 - val_loss: 80.7182\n",
      "Epoch 3/20\n",
      "46/46 [==============================] - 0s - loss: 63.2926 - val_loss: 56.5154\n",
      "Epoch 4/20\n",
      "46/46 [==============================] - 0s - loss: 44.1729 - val_loss: 39.5617\n",
      "Epoch 5/20\n",
      "46/46 [==============================] - 0s - loss: 30.2568 - val_loss: 29.8766\n",
      "Epoch 6/20\n",
      "46/46 [==============================] - 0s - loss: 22.2198 - val_loss: 26.2155\n",
      "Epoch 7/20\n",
      "46/46 [==============================] - 0s - loss: 17.9023 - val_loss: 24.7951\n",
      "Epoch 8/20\n",
      "46/46 [==============================] - 0s - loss: 15.5833 - val_loss: 24.2303\n",
      "Epoch 9/20\n",
      "46/46 [==============================] - 0s - loss: 14.1109 - val_loss: 23.8751\n",
      "Epoch 10/20\n",
      "46/46 [==============================] - 0s - loss: 13.0445 - val_loss: 23.4728\n",
      "Epoch 11/20\n",
      "46/46 [==============================] - 0s - loss: 12.1625 - val_loss: 23.1930\n",
      "Epoch 12/20\n",
      "46/46 [==============================] - 0s - loss: 11.4189 - val_loss: 22.6928\n",
      "Epoch 13/20\n",
      "46/46 [==============================] - 0s - loss: 10.7881 - val_loss: 22.5526\n",
      "Epoch 14/20\n",
      "46/46 [==============================] - 0s - loss: 10.2452 - val_loss: 21.7186\n",
      "Epoch 15/20\n",
      "46/46 [==============================] - 0s - loss: 9.7955 - val_loss: 22.2492\n",
      "Epoch 16/20\n",
      "46/46 [==============================] - 0s - loss: 9.4666 - val_loss: 20.2771\n",
      "Epoch 17/20\n",
      "46/46 [==============================] - 0s - loss: 9.3848 - val_loss: 23.1157\n",
      "Epoch 18/20\n",
      "46/46 [==============================] - 0s - loss: 9.5283 - val_loss: 18.9111\n",
      "Epoch 19/20\n",
      "46/46 [==============================] - 0s - loss: 10.0673 - val_loss: 23.8295\n",
      "Epoch 20/20\n",
      "46/46 [==============================] - 0s - loss: 9.5269 - val_loss: 17.9781\n"
     ]
    }
   ],
   "source": [
    "batch_size  = 100\n",
    "\n",
    "\n",
    "\n",
    "model = Sequential()\n",
    "\n",
    "model.add(Conv2D(filters=32, kernel_size=(3, 3), input_shape=(1, 200, 200),\n",
    "                 padding='same', activation='relu'))\n",
    "model.add(Flatten())\n",
    "\n",
    "model.add(Dense(1, activation='relu'))\n",
    "\n",
    "\n",
    "rmsprop = optimizers.RMSprop(lr=0.001, rho=0.9, epsilon=1e-08, decay=0.001)\n",
    "\n",
    "model.compile(optimizer=rmsprop, loss='mse')\n",
    "\n",
    "\n",
    "hist = model.fit(x_train, y_train, validation_data=(x_val, y_val), epochs=20, batch_size=batch_size)"
   ]
  },
  {
   "cell_type": "code",
   "execution_count": 16,
   "metadata": {
    "collapsed": false
   },
   "outputs": [
    {
     "data": {
      "image/png": "[encoded data removed]",
      "text/plain": [
       "<matplotlib.figure.Figure at 0x7f929e77e198>"
      ]
     },
     "metadata": {},
     "output_type": "display_data"
    }
   ],
   "source": [
    "import matplotlib.pyplot as plt\n",
    "plt.style.use('ggplot')\n",
    "\n",
    "fig, ax = plt.subplots()\n",
    "ax.set_title('Losses')\n",
    "ax.plot(hist.epoch, hist.history.get('loss'), label = 'train loss', color=\"red\")\n",
    "ax.plot(hist.epoch, hist.history.get('val_loss'),  label = 'validation loss', color=\"green\")\n",
    "ax.legend()\n",
    "ax.set_xlabel('epochs')\n",
    "ax.set_ylabel('mse')\n",
    "plt.show()"
   ]
  },
  {
   "cell_type": "code",
   "execution_count": 15,
   "metadata": {
    "collapsed": false
   },
   "outputs": [
    {
     "ename": "NameError",
     "evalue": "name 'x_test' is not defined",
     "output_type": "error",
     "traceback": [
      "\u001b[0;31m---------------------------------------------------------------------------\u001b[0m",
      "\u001b[0;31mNameError\u001b[0m                                 Traceback (most recent call last)",
      "\u001b[0;32m<ipython-input-15-1aec5e5d26a7>\u001b[0m in \u001b[0;36m<module>\u001b[0;34m()\u001b[0m\n\u001b[0;32m----> 1\u001b[0;31m \u001b[0mpredictions\u001b[0m \u001b[0;34m=\u001b[0m \u001b[0mmodel\u001b[0m\u001b[0;34m.\u001b[0m\u001b[0mpredict\u001b[0m\u001b[0;34m(\u001b[0m\u001b[0mx_test\u001b[0m\u001b[0;34m,\u001b[0m \u001b[0mbatch_size\u001b[0m\u001b[0;34m=\u001b[0m\u001b[0mbatch_size\u001b[0m\u001b[0;34m,\u001b[0m \u001b[0mverbose\u001b[0m\u001b[0;34m=\u001b[0m\u001b[0;36m0\u001b[0m\u001b[0;34m)\u001b[0m\u001b[0;34m\u001b[0m\u001b[0m\n\u001b[0m\u001b[1;32m      2\u001b[0m subm_dict = {'logMstar_predictions' : predictions,\n\u001b[1;32m      3\u001b[0m 'SDSS_ID' : testIDs}\n\u001b[1;32m      4\u001b[0m \u001b[0msubm_df\u001b[0m \u001b[0;34m=\u001b[0m \u001b[0mpd\u001b[0m\u001b[0;34m.\u001b[0m\u001b[0mDataFrame\u001b[0m\u001b[0;34m(\u001b[0m\u001b[0msubm_dict\u001b[0m\u001b[0;34m)\u001b[0m\u001b[0;34m\u001b[0m\u001b[0m\n\u001b[1;32m      5\u001b[0m \u001b[0msubm_df\u001b[0m\u001b[0;34m.\u001b[0m\u001b[0mto_csv\u001b[0m\u001b[0;34m(\u001b[0m\u001b[0;34m\"./Submission_The_Juniors.csv\"\u001b[0m\u001b[0;34m,\u001b[0m \u001b[0mindex\u001b[0m\u001b[0;34m=\u001b[0m\u001b[0;32mFalse\u001b[0m\u001b[0;34m)\u001b[0m\u001b[0;34m\u001b[0m\u001b[0m\n",
      "\u001b[0;31mNameError\u001b[0m: name 'x_test' is not defined"
     ]
    }
   ],
   "source": [
    "predictions = model.predict(x_test, batch_size=batch_size, verbose=0)\n",
    "subm_dict = {'logMstar_predictions' : predictions,\n",
    "'SDSS_ID' : testIDs}\n",
    "subm_df = pd.DataFrame(subm_dict)\n",
    "subm_df.to_csv(\"./Submission_The_Juniors.csv\", index=False)"
   ]
  },
  {
   "cell_type": "code",
   "execution_count": null,
   "metadata": {
    "collapsed": true
   },
   "outputs": [],
   "source": []
  }
 ],
 "metadata": {
  "anaconda-cloud": {},
  "kernelspec": {
   "display_name": "Python [conda root]",
   "language": "python",
   "name": "conda-root-py"
  },
  "language_info": {
   "codemirror_mode": {
    "name": "ipython",
    "version": 3
   },
   "file_extension": ".py",
   "mimetype": "text/x-python",
   "name": "python",
   "nbconvert_exporter": "python",
   "pygments_lexer": "ipython3",
   "version": "3.5.2"
  }
 },
 "nbformat": 4,
 "nbformat_minor": 1
}
